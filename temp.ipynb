{
 "cells": [
  {
   "cell_type": "code",
   "execution_count": null,
   "metadata": {
    "vscode": {
     "languageId": "plaintext"
    }
   },
   "outputs": [],
   "source": [
    "# セル 1: 必要なライブラリのインポート\n",
    "import ipywidgets as widgets\n",
    "from IPython.display import display, Audio, clear_output\n",
    "import torch\n",
    "import numpy as np\n",
    "from pathlib import Path\n",
    "import threading\n",
    "import queue\n",
    "import time\n",
    "import os\n",
    "from loguru import logger\n",
    "import io\n",
    "\n",
    "# fish-speech関連のモジュールをインポート\n",
    "# (fish-speechがインストールされ、パスが通っている必要があります)\n",
    "# 必要に応じて sys.path に fish-speech のパスを追加してください\n",
    "# import sys\n",
    "# sys.path.append('/path/to/fish-speech') # 例\n",
    "try:\n",
    "    from fish_speech.inference_engine import TTSInferenceEngine\n",
    "    from fish_speech.models.text2semantic.inference import launch_thread_safe_queue\n",
    "    from fish_speech.models.vqgan.inference import load_model as load_decoder_model\n",
    "    from fish_speech.utils.schema import ServeTTSRequest\n",
    "except ImportError as e:\n",
    "    print(f\"Error importing fish-speech modules: {e}\")\n",
    "    print(\"Please ensure fish-speech is installed and accessible in your Python path.\")\n",
    "    # ここで処理を中断するか、ダミーの関数を定義するなどの対応が必要です\n",
    "    raise e\n",
    "\n",
    "print(\"必要なライブラリをインポートしました。\")"
   ]
  },
  {
   "cell_type": "code",
   "execution_count": null,
   "metadata": {
    "vscode": {
     "languageId": "plaintext"
    }
   },
   "outputs": [],
   "source": [
    "# セル 2: 設定値 (モデルパスなどを環境に合わせて変更してください)\n",
    "\n",
    "# --- ユーザー設定 ---\n",
    "LLAMA_CHECKPOINT_PATH = Path(\"./checkpoints/fish-speech-1.5\") # LLAMAモデルのパス\n",
    "DECODER_CHECKPOINT_PATH = Path(\"./checkpoints/fish-speech-1.5/firefly-gan-vq-fsq-8x1024-21hz-generator.pth\") # VQGANモデルのパス\n",
    "DECODER_CONFIG_NAME = \"firefly_gan_vq\" # VQGANモデルの設定名\n",
    "# --------------------\n",
    "\n",
    "# デバイス設定 (自動検出)\n",
    "if torch.cuda.is_available():\n",
    "    DEVICE = \"cuda\"\n",
    "    PRECISION = torch.bfloat16 # または torch.float16\n",
    "elif torch.backends.mps.is_available():\n",
    "    DEVICE = \"mps\"\n",
    "    PRECISION = torch.float16 # MPSはbfloat16をサポートしない場合がある\n",
    "else:\n",
    "    DEVICE = \"cpu\"\n",
    "    PRECISION = torch.float32\n",
    "\n",
    "COMPILE_MODEL = True # モデルコンパイルを有効にするか (高速化のため推奨)\n",
    "\n",
    "# WindowsかつCompile=Trueの場合、警告を出す (動作しない可能性があるため)\n",
    "if os.name == 'nt' and COMPILE_MODEL:\n",
    "    print(\"警告: Windows環境でのモデルコンパイルは不安定な場合があります。エラーが発生する場合は COMPILE_MODEL = False を試してください。\")\n",
    "\n",
    "# Make einx happy (fish-speechが必要とする可能性あり)\n",
    "os.environ[\"EINX_FILTER_TRACEBACK\"] = \"false\"\n",
    "\n",
    "print(f\"デバイス: {DEVICE}\")\n",
    "print(f\"精度: {PRECISION}\")\n",
    "print(f\"モデルコンパイル: {COMPILE_MODEL}\")\n",
    "print(f\"LLAMAモデルパス: {LLAMA_CHECKPOINT_PATH}\")\n",
    "print(f\"VQGANモデルパス: {DECODER_CHECKPOINT_PATH}\")"
   ]
  },
  {
   "cell_type": "code",
   "execution_count": null,
   "metadata": {
    "vscode": {
     "languageId": "plaintext"
    }
   },
   "outputs": [],
   "source": [
    "# セル 3: モデルの読み込みとコンパイル (このセルは時間がかかります)\n",
    "\n",
    "print(\"モデルの読み込みとコンパイルを開始します。時間がかかる場合があります...\")\n",
    "start_time = time.time()\n",
    "\n",
    "# 1. LLAMAモデルを別スレッドで読み込み&コンパイル\n",
    "try:\n",
    "    print(\"LLAMAモデルを読み込んでいます...\")\n",
    "    llama_queue = launch_thread_safe_queue(\n",
    "        checkpoint_path=LLAMA_CHECKPOINT_PATH,\n",
    "        device=DEVICE,\n",
    "        precision=PRECISION,\n",
    "        compile=COMPILE_MODEL,\n",
    "    )\n",
    "    print(\"LLAMAモデルの読み込み完了。\")\n",
    "except Exception as e:\n",
    "    print(f\"LLAMAモデルの読み込み中にエラーが発生しました: {e}\")\n",
    "    if COMPILE_MODEL:\n",
    "        print(\"コンパイルなしで再試行します (COMPILE_MODEL = False)...\")\n",
    "        COMPILE_MODEL = False\n",
    "        llama_queue = launch_thread_safe_queue(\n",
    "            checkpoint_path=LLAMA_CHECKPOINT_PATH,\n",
    "            device=DEVICE,\n",
    "            precision=PRECISION,\n",
    "            compile=COMPILE_MODEL,\n",
    "        )\n",
    "        print(\"LLAMAモデルの読み込み完了 (コンパイルなし)。\")\n",
    "    else:\n",
    "        raise e\n",
    "\n",
    "# 2. VQGANデコーダーモデルの読み込み\n",
    "print(\"VQGANデコーダーモデルを読み込んでいます...\")\n",
    "decoder_model = load_decoder_model(\n",
    "    config_name=DECODER_CONFIG_NAME,\n",
    "    checkpoint_path=DECODER_CHECKPOINT_PATH,\n",
    "    device=DEVICE,\n",
    ")\n",
    "print(\"VQGANデコーダーモデルの読み込み完了。\")\n",
    "\n",
    "# 3. TTS推論エンジンの初期化\n",
    "print(\"TTS推論エンジンを初期化しています...\")\n",
    "inference_engine = TTSInferenceEngine(\n",
    "    llama_queue=llama_queue,\n",
    "    decoder_model=decoder_model,\n",
    "    compile=COMPILE_MODEL, # コンパイル設定をエンジンにも渡す\n",
    "    precision=PRECISION,\n",
    ")\n",
    "print(\"TTS推論エンジンの初期化完了。\")\n",
    "\n",
    "# 4. ウォームアップ実行 (初回推論の遅延を減らすため)\n",
    "print(\"モデルのウォームアップを実行中...\")\n",
    "try:\n",
    "    _ = list(inference_engine.inference(ServeTTSRequest(text=\"warm up\")))\n",
    "    print(\"ウォームアップ完了。\")\n",
    "except Exception as e:\n",
    "    print(f\"ウォームアップ中にエラーが発生しました: {e}\")\n",
    "    print(\"アプリは起動しますが、初回の音声生成に時間がかかる可能性があります。\")\n",
    "\n",
    "end_time = time.time()\n",
    "print(f\"モデルの準備完了。所要時間: {end_time - start_time:.2f} 秒\")\n",
    "\n",
    "# グローバル変数としてエンジンを保持\n",
    "tts_engine_global = inference_engine"
   ]
  },
  {
   "cell_type": "code",
   "execution_count": null,
   "metadata": {
    "vscode": {
     "languageId": "plaintext"
    }
   },
   "outputs": [],
   "source": [
    "# セル 4: ipywidgets UIの定義と表示 (修正版)\n",
    "\n",
    "# --- UI要素の定義 ---\n",
    "app_title = widgets.HTML(\"<h1>GMC Speech</h1>\")\n",
    "text_input = widgets.Textarea(\n",
    "    # placeholderを修正\n",
    "    placeholder='ここにテキストを入力するか、下のボタンからファイルをアップロードして内容を編集してください。',\n",
    "    layout=widgets.Layout(width='95%', height='150px')\n",
    ")\n",
    "file_upload = widgets.FileUpload(\n",
    "    accept='.txt',\n",
    "    multiple=False,\n",
    "    # descriptionを修正\n",
    "    description='テキスト読込(&編集)',\n",
    "    tooltip='テキストファイルを読み込み、テキストエリアに表示して編集できます'\n",
    ")\n",
    "generate_button = widgets.Button(\n",
    "    description='音声生成',\n",
    "    button_style='success',\n",
    "    tooltip='入力/編集されたテキストから音声を生成します',\n",
    "    icon='play',\n",
    "    layout=widgets.Layout(width='auto')\n",
    ")\n",
    "status_label = widgets.Label(value=\"\")\n",
    "audio_output = widgets.Output()\n",
    "\n",
    "# --- UIレイアウト ---\n",
    "ui_layout = widgets.VBox([\n",
    "    app_title,\n",
    "    text_input,\n",
    "    widgets.HBox([file_upload, generate_button]),\n",
    "    status_label,\n",
    "    audio_output\n",
    "])\n",
    "\n",
    "# --- UI表示 ---\n",
    "display(ui_layout)\n",
    "\n",
    "print(\"UIを表示しました。\") # 完了メッセージを追加"
   ]
  },
  {
   "cell_type": "code",
   "execution_count": null,
   "metadata": {
    "vscode": {
     "languageId": "plaintext"
    }
   },
   "outputs": [],
   "source": [
    "# セル 5: イベントハンドラの定義 (修正版)\n",
    "\n",
    "# ファイルアップロード時の処理\n",
    "def on_file_upload_change(change):\n",
    "    # change['new'] はアップロードされたファイルのタプル (通常は1要素)\n",
    "    # change['old'] は前の値 (通常は空のタプル)\n",
    "    uploaded_files = change['new']\n",
    "    if uploaded_files:\n",
    "        # 最初のファイルを取得 (multiple=False なので常に1つのはず)\n",
    "        uploaded_file_info = uploaded_files[0]\n",
    "        try:\n",
    "            # ファイル内容をデコードしてテキストエリアに設定\n",
    "            content = uploaded_file_info['content'].tobytes().decode('utf-8') # contentはmemoryviewの場合があるのでtobytes()\n",
    "            text_input.value = content # ★ 読み込んだ内容をTextareaに設定\n",
    "            status_label.value = f\"ファイル '{uploaded_file_info['name']}' を読み込みました。内容は編集可能です。\"\n",
    "        except Exception as e:\n",
    "            status_label.value = f\"ファイルの読み込み/デコードに失敗しました: {e}\"\n",
    "            logger.error(f\"File upload error: {e}\")\n",
    "        finally:\n",
    "            # ★ ファイルアップロードウィジェットの値をリセットして、同じファイルを再度アップロードできるようにする\n",
    "            #    ipywidgetsのバージョンによって挙動が異なる可能性があるため、複数の方法を試す\n",
    "            try:\n",
    "                file_upload.value = () # タプルでリセット\n",
    "            except Exception:\n",
    "                 try:\n",
    "                     file_upload.value = [] # リストでリセット\n",
    "                 except Exception as reset_e:\n",
    "                     logger.error(f\"Failed to reset FileUpload widget: {reset_e}\")\n",
    "                     # どうしてもリセットできない場合は、ユーザーに手動でのクリアを促すメッセージなどを表示\n",
    "                     # status_label.value += \" (アップロードウィジェットのリセットに失敗しました)\"\n",
    "\n",
    "    # change['old'] を使ってファイル選択がキャンセルされたことを検知することも可能だが、\n",
    "    # ここでは new が空でない場合のみ処理するようにしているため、キャンセル時の特別な処理は不要。\n",
    "\n",
    "# 音声生成ボタンクリック時の処理 (変更なし)\n",
    "def on_generate_button_clicked(b):\n",
    "    # 既存の音声出力をクリア\n",
    "    with audio_output:\n",
    "        clear_output(wait=True)\n",
    "\n",
    "    input_text = text_input.value.strip()\n",
    "    if not input_text:\n",
    "        status_label.value = \"テキストが入力されていません。\"\n",
    "        return\n",
    "\n",
    "    # ボタンを無効化し、ステータスを更新\n",
    "    generate_button.disabled = True\n",
    "    status_label.value = \"音声生成中... (テキストの長さによっては時間がかかります)\"\n",
    "\n",
    "    try:\n",
    "        start_gen_time = time.time()\n",
    "\n",
    "        # TTS推論リクエストを作成\n",
    "        req = ServeTTSRequest(\n",
    "            text=input_text,\n",
    "            # 必要に応じて他のパラメータ (chunk_length, top_pなど) を設定\n",
    "        )\n",
    "\n",
    "        # グローバル変数から推論エンジンを取得\n",
    "        engine = tts_engine_global\n",
    "\n",
    "        # 音声生成を実行\n",
    "        generated_audio_data = None\n",
    "        sample_rate = 44100 # デフォルト値\n",
    "\n",
    "        for result in engine.inference(req):\n",
    "            if result.code == \"final\" and result.audio is not None:\n",
    "                sample_rate, generated_audio_data = result.audio\n",
    "                break\n",
    "            elif result.code == \"error\":\n",
    "                raise result.error\n",
    "\n",
    "        end_gen_time = time.time()\n",
    "\n",
    "        if generated_audio_data is not None:\n",
    "            status_label.value = f\"音声生成完了！ ({end_gen_time - start_gen_time:.2f} 秒)\"\n",
    "            with audio_output:\n",
    "                display(Audio(data=generated_audio_data, rate=sample_rate))\n",
    "        else:\n",
    "            status_label.value = \"音声の生成に失敗しました（データがありません）。\"\n",
    "\n",
    "    except Exception as e:\n",
    "        status_label.value = f\"エラーが発生しました: {e}\"\n",
    "        logger.error(f\"Inference error: {e}\")\n",
    "        import traceback\n",
    "        logger.error(traceback.format_exc())\n",
    "\n",
    "    finally:\n",
    "        # ボタンを再度有効化\n",
    "        generate_button.disabled = False\n",
    "\n",
    "print(\"イベントハンドラを定義しました。\") # 完了メッセージを追加"
   ]
  },
  {
   "cell_type": "code",
   "execution_count": null,
   "metadata": {
    "vscode": {
     "languageId": "plaintext"
    }
   },
   "outputs": [],
   "source": [
    "# セル 6: イベントハンドラとウィジェットの連携設定\n",
    "\n",
    "# FileUploadウィジェットの値が変更されたらon_file_upload_changeを呼び出す\n",
    "file_upload.observe(on_file_upload_change, names='value')\n",
    "\n",
    "# Buttonウィジェットがクリックされたらon_generate_button_clickedを呼び出す\n",
    "generate_button.on_click(on_generate_button_clicked)\n",
    "\n",
    "print(\"イベントハンドラを設定しました。アプリを使用できます。\")"
   ]
  },
  {
   "cell_type": "code",
   "execution_count": null,
   "metadata": {
    "vscode": {
     "languageId": "plaintext"
    }
   },
   "outputs": [],
   "source": []
  },
  {
   "cell_type": "code",
   "execution_count": null,
   "metadata": {
    "vscode": {
     "languageId": "plaintext"
    }
   },
   "outputs": [],
   "source": []
  },
  {
   "cell_type": "code",
   "execution_count": null,
   "metadata": {
    "vscode": {
     "languageId": "plaintext"
    }
   },
   "outputs": [],
   "source": []
  },
  {
   "cell_type": "code",
   "execution_count": null,
   "metadata": {
    "vscode": {
     "languageId": "plaintext"
    }
   },
   "outputs": [],
   "source": []
  }
 ],
 "metadata": {
  "language_info": {
   "name": "python"
  }
 },
 "nbformat": 4,
 "nbformat_minor": 2
}